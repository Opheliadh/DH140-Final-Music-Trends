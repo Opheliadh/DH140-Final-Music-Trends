{
 "cells": [
  {
   "cell_type": "markdown",
   "id": "00143ed0-2746-4a69-92cf-58c8364090b4",
   "metadata": {},
   "source": [
    "# Analysis of the Spotify Dataset \n",
    "\n",
    "### Date: March 13, 2022\n",
    "### By: Ophelia, Anh, Anthony"
   ]
  },
  {
   "cell_type": "markdown",
   "id": "9e537043-da2c-4202-8bc0-a43dd6355ff2",
   "metadata": {},
   "source": [
    "## Introduction (an overview of your entire project, your research topic and question, your motivation to study this topic, and any prior related work)"
   ]
  },
  {
   "cell_type": "markdown",
   "id": "26b0e648-7beb-4830-8725-d08446916a7a",
   "metadata": {},
   "source": [
    "# Introduction (300)"
   ]
  },
  {
   "cell_type": "code",
   "execution_count": 125,
   "id": "be830f1b-74e3-4944-85c9-248285f2c66e",
   "metadata": {},
   "outputs": [],
   "source": [
    "# import all libraries in this cell \n",
    "import pandas as pd"
   ]
  },
  {
   "cell_type": "code",
   "execution_count": 126,
   "id": "fea17c4a-5ed0-4471-be14-9f3fcf80bed3",
   "metadata": {},
   "outputs": [],
   "source": [
    "# import the dataset \n",
    "df = pd.read_csv(\"spotify_dataset.csv\")"
   ]
  },
  {
   "cell_type": "markdown",
   "id": "f52dbed3-c373-45da-b252-edaf51a6bb8b",
   "metadata": {},
   "source": [
    "## Methods  (explain your data and your analytical process)"
   ]
  },
  {
   "cell_type": "markdown",
   "id": "c10230bf-6682-4993-9406-c440d9d8fe17",
   "metadata": {},
   "source": [
    "### We are interested in the variables that contribute to a factor's popularity. \n",
    "\n",
    "Popularity in this dataset is measured on a continuous scale form 1-100. Thus, we are thinking of using the Linear Regression model rather than logistic, random forest and other classication ones from skylearn. \n",
    "\n",
    "Note: We will create a new dataframe with the cleaned variables to conduct analysis. This new dataframe with cleaned variables will be called **cleaned_df**. When we finishing cleaning all data, we will add it to this dataframe. "
   ]
  },
  {
   "cell_type": "code",
   "execution_count": 127,
   "id": "d9ce1ed1-040f-41ec-814d-a8127300654e",
   "metadata": {},
   "outputs": [],
   "source": [
    "cleaned_df=pd.DataFrame()"
   ]
  },
  {
   "cell_type": "markdown",
   "id": "3d928236-0647-4358-808f-cea8fca043df",
   "metadata": {},
   "source": [
    "To begin our analysis, we will first take a general look on the dataset, and select the variables that we want to focus on. Below is a general look at our selected dataset. "
   ]
  },
  {
   "cell_type": "code",
   "execution_count": 128,
   "id": "4d7ee8ba-a526-4abe-9f73-4cb598df042b",
   "metadata": {},
   "outputs": [
    {
     "data": {
      "text/html": [
       "<div>\n",
       "<style scoped>\n",
       "    .dataframe tbody tr th:only-of-type {\n",
       "        vertical-align: middle;\n",
       "    }\n",
       "\n",
       "    .dataframe tbody tr th {\n",
       "        vertical-align: top;\n",
       "    }\n",
       "\n",
       "    .dataframe thead th {\n",
       "        text-align: right;\n",
       "    }\n",
       "</style>\n",
       "<table border=\"1\" class=\"dataframe\">\n",
       "  <thead>\n",
       "    <tr style=\"text-align: right;\">\n",
       "      <th></th>\n",
       "      <th>Index</th>\n",
       "      <th>Highest Charting Position</th>\n",
       "      <th>Number of Times Charted</th>\n",
       "      <th>Week of Highest Charting</th>\n",
       "      <th>Song Name</th>\n",
       "      <th>Streams</th>\n",
       "      <th>Artist</th>\n",
       "      <th>Artist Followers</th>\n",
       "      <th>Song ID</th>\n",
       "      <th>Genre</th>\n",
       "      <th>...</th>\n",
       "      <th>Danceability</th>\n",
       "      <th>Energy</th>\n",
       "      <th>Loudness</th>\n",
       "      <th>Speechiness</th>\n",
       "      <th>Acousticness</th>\n",
       "      <th>Liveness</th>\n",
       "      <th>Tempo</th>\n",
       "      <th>Duration (ms)</th>\n",
       "      <th>Valence</th>\n",
       "      <th>Chord</th>\n",
       "    </tr>\n",
       "  </thead>\n",
       "  <tbody>\n",
       "    <tr>\n",
       "      <th>0</th>\n",
       "      <td>1</td>\n",
       "      <td>1</td>\n",
       "      <td>8</td>\n",
       "      <td>2021-07-23--2021-07-30</td>\n",
       "      <td>Beggin'</td>\n",
       "      <td>48,633,449</td>\n",
       "      <td>Måneskin</td>\n",
       "      <td>3377762</td>\n",
       "      <td>3Wrjm47oTz2sjIgck11l5e</td>\n",
       "      <td>['indie rock italiano', 'italian pop']</td>\n",
       "      <td>...</td>\n",
       "      <td>0.714</td>\n",
       "      <td>0.8</td>\n",
       "      <td>-4.808</td>\n",
       "      <td>0.0504</td>\n",
       "      <td>0.127</td>\n",
       "      <td>0.359</td>\n",
       "      <td>134.002</td>\n",
       "      <td>211560</td>\n",
       "      <td>0.589</td>\n",
       "      <td>B</td>\n",
       "    </tr>\n",
       "    <tr>\n",
       "      <th>1</th>\n",
       "      <td>2</td>\n",
       "      <td>2</td>\n",
       "      <td>3</td>\n",
       "      <td>2021-07-23--2021-07-30</td>\n",
       "      <td>STAY (with Justin Bieber)</td>\n",
       "      <td>47,248,719</td>\n",
       "      <td>The Kid LAROI</td>\n",
       "      <td>2230022</td>\n",
       "      <td>5HCyWlXZPP0y6Gqq8TgA20</td>\n",
       "      <td>['australian hip hop']</td>\n",
       "      <td>...</td>\n",
       "      <td>0.591</td>\n",
       "      <td>0.764</td>\n",
       "      <td>-5.484</td>\n",
       "      <td>0.0483</td>\n",
       "      <td>0.0383</td>\n",
       "      <td>0.103</td>\n",
       "      <td>169.928</td>\n",
       "      <td>141806</td>\n",
       "      <td>0.478</td>\n",
       "      <td>C#/Db</td>\n",
       "    </tr>\n",
       "    <tr>\n",
       "      <th>2</th>\n",
       "      <td>3</td>\n",
       "      <td>1</td>\n",
       "      <td>11</td>\n",
       "      <td>2021-06-25--2021-07-02</td>\n",
       "      <td>good 4 u</td>\n",
       "      <td>40,162,559</td>\n",
       "      <td>Olivia Rodrigo</td>\n",
       "      <td>6266514</td>\n",
       "      <td>4ZtFanR9U6ndgddUvNcjcG</td>\n",
       "      <td>['pop']</td>\n",
       "      <td>...</td>\n",
       "      <td>0.563</td>\n",
       "      <td>0.664</td>\n",
       "      <td>-5.044</td>\n",
       "      <td>0.154</td>\n",
       "      <td>0.335</td>\n",
       "      <td>0.0849</td>\n",
       "      <td>166.928</td>\n",
       "      <td>178147</td>\n",
       "      <td>0.688</td>\n",
       "      <td>A</td>\n",
       "    </tr>\n",
       "    <tr>\n",
       "      <th>3</th>\n",
       "      <td>4</td>\n",
       "      <td>3</td>\n",
       "      <td>5</td>\n",
       "      <td>2021-07-02--2021-07-09</td>\n",
       "      <td>Bad Habits</td>\n",
       "      <td>37,799,456</td>\n",
       "      <td>Ed Sheeran</td>\n",
       "      <td>83293380</td>\n",
       "      <td>6PQ88X9TkUIAUIZJHW2upE</td>\n",
       "      <td>['pop', 'uk pop']</td>\n",
       "      <td>...</td>\n",
       "      <td>0.808</td>\n",
       "      <td>0.897</td>\n",
       "      <td>-3.712</td>\n",
       "      <td>0.0348</td>\n",
       "      <td>0.0469</td>\n",
       "      <td>0.364</td>\n",
       "      <td>126.026</td>\n",
       "      <td>231041</td>\n",
       "      <td>0.591</td>\n",
       "      <td>B</td>\n",
       "    </tr>\n",
       "    <tr>\n",
       "      <th>4</th>\n",
       "      <td>5</td>\n",
       "      <td>5</td>\n",
       "      <td>1</td>\n",
       "      <td>2021-07-23--2021-07-30</td>\n",
       "      <td>INDUSTRY BABY (feat. Jack Harlow)</td>\n",
       "      <td>33,948,454</td>\n",
       "      <td>Lil Nas X</td>\n",
       "      <td>5473565</td>\n",
       "      <td>27NovPIUIRrOZoCHxABJwK</td>\n",
       "      <td>['lgbtq+ hip hop', 'pop rap']</td>\n",
       "      <td>...</td>\n",
       "      <td>0.736</td>\n",
       "      <td>0.704</td>\n",
       "      <td>-7.409</td>\n",
       "      <td>0.0615</td>\n",
       "      <td>0.0203</td>\n",
       "      <td>0.0501</td>\n",
       "      <td>149.995</td>\n",
       "      <td>212000</td>\n",
       "      <td>0.894</td>\n",
       "      <td>D#/Eb</td>\n",
       "    </tr>\n",
       "  </tbody>\n",
       "</table>\n",
       "<p>5 rows × 23 columns</p>\n",
       "</div>"
      ],
      "text/plain": [
       "   Index  Highest Charting Position  Number of Times Charted  \\\n",
       "0      1                          1                        8   \n",
       "1      2                          2                        3   \n",
       "2      3                          1                       11   \n",
       "3      4                          3                        5   \n",
       "4      5                          5                        1   \n",
       "\n",
       "  Week of Highest Charting                          Song Name     Streams  \\\n",
       "0   2021-07-23--2021-07-30                            Beggin'  48,633,449   \n",
       "1   2021-07-23--2021-07-30          STAY (with Justin Bieber)  47,248,719   \n",
       "2   2021-06-25--2021-07-02                           good 4 u  40,162,559   \n",
       "3   2021-07-02--2021-07-09                         Bad Habits  37,799,456   \n",
       "4   2021-07-23--2021-07-30  INDUSTRY BABY (feat. Jack Harlow)  33,948,454   \n",
       "\n",
       "           Artist Artist Followers                 Song ID  \\\n",
       "0        Måneskin          3377762  3Wrjm47oTz2sjIgck11l5e   \n",
       "1   The Kid LAROI          2230022  5HCyWlXZPP0y6Gqq8TgA20   \n",
       "2  Olivia Rodrigo          6266514  4ZtFanR9U6ndgddUvNcjcG   \n",
       "3      Ed Sheeran         83293380  6PQ88X9TkUIAUIZJHW2upE   \n",
       "4       Lil Nas X          5473565  27NovPIUIRrOZoCHxABJwK   \n",
       "\n",
       "                                    Genre  ... Danceability Energy Loudness  \\\n",
       "0  ['indie rock italiano', 'italian pop']  ...        0.714    0.8   -4.808   \n",
       "1                  ['australian hip hop']  ...        0.591  0.764   -5.484   \n",
       "2                                 ['pop']  ...        0.563  0.664   -5.044   \n",
       "3                       ['pop', 'uk pop']  ...        0.808  0.897   -3.712   \n",
       "4           ['lgbtq+ hip hop', 'pop rap']  ...        0.736  0.704   -7.409   \n",
       "\n",
       "  Speechiness Acousticness Liveness    Tempo Duration (ms) Valence  Chord  \n",
       "0      0.0504        0.127    0.359  134.002        211560   0.589      B  \n",
       "1      0.0483       0.0383    0.103  169.928        141806   0.478  C#/Db  \n",
       "2       0.154        0.335   0.0849  166.928        178147   0.688      A  \n",
       "3      0.0348       0.0469    0.364  126.026        231041   0.591      B  \n",
       "4      0.0615       0.0203   0.0501  149.995        212000   0.894  D#/Eb  \n",
       "\n",
       "[5 rows x 23 columns]"
      ]
     },
     "execution_count": 128,
     "metadata": {},
     "output_type": "execute_result"
    }
   ],
   "source": [
    "df.head()"
   ]
  },
  {
   "cell_type": "markdown",
   "id": "dc2532c5-2964-47bc-9f82-7eacdbb63f23",
   "metadata": {},
   "source": [
    "The columns for the dataframe is listed below. There are 23 columns in total. "
   ]
  },
  {
   "cell_type": "code",
   "execution_count": 129,
   "id": "c6ee3d57-bbc1-41bc-8bda-dbc7d6b74e06",
   "metadata": {},
   "outputs": [
    {
     "data": {
      "text/plain": [
       "Index(['Index', 'Highest Charting Position', 'Number of Times Charted',\n",
       "       'Week of Highest Charting', 'Song Name', 'Streams', 'Artist',\n",
       "       'Artist Followers', 'Song ID', 'Genre', 'Release Date', 'Weeks Charted',\n",
       "       'Popularity', 'Danceability', 'Energy', 'Loudness', 'Speechiness',\n",
       "       'Acousticness', 'Liveness', 'Tempo', 'Duration (ms)', 'Valence',\n",
       "       'Chord'],\n",
       "      dtype='object')"
      ]
     },
     "execution_count": 129,
     "metadata": {},
     "output_type": "execute_result"
    }
   ],
   "source": [
    "df.columns"
   ]
  },
  {
   "cell_type": "markdown",
   "id": "ddc0bd36-783b-4343-9857-6bb786c86ab8",
   "metadata": {},
   "source": [
    "To measure popularity, we will use the **Popularity** column as our **response variable**. \n",
    "\n",
    "After a quick inspection, we decide to work with the following columns as our **independent variables**:\n",
    "\n",
    "Numerical values \n",
    "- Danceability \n",
    "- Energy\n",
    "- Loudness\n",
    "- Speechiness\n",
    "- Acousticness\n",
    "- Liveness\n",
    "- Tempo\n",
    "- Duration (ms) \n",
    "- Valence \n",
    "\n",
    "Categorical ones \n",
    "- Week of Highest Charting\n",
    "- Genre\n",
    "\n",
    "A total of 11 independant variables. "
   ]
  },
  {
   "cell_type": "markdown",
   "id": "b5d6436f-5d9f-4125-90b2-c944934c19cf",
   "metadata": {},
   "source": [
    "Comment for next two cells \n",
    "- Drop unused columns\n",
    "- Drop rows with empy values"
   ]
  },
  {
   "cell_type": "code",
   "execution_count": 130,
   "id": "5b714784-435f-4d63-b679-c53de22e6a58",
   "metadata": {},
   "outputs": [],
   "source": [
    "df = df.drop(['Index', 'Highest Charting Position', 'Number of Times Charted','Song Name', \n",
    "              'Streams', 'Artist', 'Artist Followers', 'Song ID', 'Release Date', \n",
    "              'Weeks Charted','Chord'],axis=1)"
   ]
  },
  {
   "cell_type": "code",
   "execution_count": 136,
   "id": "5b73b601-64b5-49d5-bf3b-1442efc0091c",
   "metadata": {},
   "outputs": [],
   "source": [
    "df = df.drop(index=[35,163,464,530,636,654,750,784,876,1140,1538],axis=1)"
   ]
  },
  {
   "cell_type": "markdown",
   "id": "26715293-25e0-4ded-bd5b-f82c399fc061",
   "metadata": {},
   "source": [
    "#### Below will be an outline of our data cleaning, visualization and analysis process. \n",
    "\n",
    "First, we look at the distribution of the response variable, **Popularity**.\n",
    "\n",
    "Then, we look at the distribution of numerical variables in this dataset, checking if they have abnormal values/outliers, and also if they would fit the major assumptions to conduct the linear analysis\n",
    "\n",
    "- Multicollinearity (Independent vairables shouldn't be correlated with each other) \n",
    "- Independent variables should be normally distributed in an ideal situation \n",
    "\n",
    "Then, we will transform the multi-level categorical variables into dummy variables. \n",
    "\n",
    "Finally, we will try to do a linear analysis, using cleaned data."
   ]
  },
  {
   "cell_type": "markdown",
   "id": "8224b1ec-d515-4502-8fa4-a4477c9ce4e5",
   "metadata": {},
   "source": [
    "## Results (lay out your data exploration, your findings, and your visuals)\n",
    "\n",
    "### Data Cleaning"
   ]
  },
  {
   "cell_type": "markdown",
   "id": "34f73079-a1ee-40a9-acbb-259e90db9212",
   "metadata": {},
   "source": [
    "Comment on the graph of popularity \n",
    "\n",
    "- Skewed to the right \n",
    "- Relatively normal "
   ]
  },
  {
   "cell_type": "code",
   "execution_count": 145,
   "id": "4382bc62-888c-4473-bcc0-637241afbbb9",
   "metadata": {},
   "outputs": [
    {
     "data": {
      "text/plain": [
       "<AxesSubplot:ylabel='Frequency'>"
      ]
     },
     "execution_count": 145,
     "metadata": {},
     "output_type": "execute_result"
    },
    {
     "data": {
      "image/png": "[encoded data removed]",
      "text/plain": [
       "<Figure size 432x288 with 1 Axes>"
      ]
     },
     "metadata": {
      "needs_background": "light"
     },
     "output_type": "display_data"
    }
   ],
   "source": [
    "df[\"Popularity\"].astype(\"int\").plot.hist()"
   ]
  },
  {
   "cell_type": "markdown",
   "id": "825261b8-91a5-4d66-b00d-3379d530b24e",
   "metadata": {},
   "source": [
    "Immediately, we realize that the variable 'Duration' is measured in ms, milleseconds. This does not make logical sense, so we will change it into minutes. "
   ]
  },
  {
   "cell_type": "code",
   "execution_count": 146,
   "id": "f0d00761-80f8-4eab-966b-397df6779a82",
   "metadata": {},
   "outputs": [],
   "source": [
    "duration_m = []\n",
    "count = 160\n",
    "for i in df[\"Duration (ms)\"]:\n",
    "    duration_m.append(round(int(i)/(1000*60),2))"
   ]
  },
  {
   "cell_type": "code",
   "execution_count": 147,
   "id": "96b5d326-d822-4f31-afb4-55b7ca34ab38",
   "metadata": {},
   "outputs": [],
   "source": [
    "cleaned_df['Duration (m)'] = duration_m"
   ]
  },
  {
   "cell_type": "code",
   "execution_count": 169,
   "id": "1340bafd-c42e-4951-ae31-4d204355b631",
   "metadata": {},
   "outputs": [
    {
     "data": {
      "text/plain": [
       "<AxesSubplot:title={'center':'Song duration in minutes'}, ylabel='Frequency'>"
      ]
     },
     "execution_count": 169,
     "metadata": {},
     "output_type": "execute_result"
    },
    {
     "data": {
      "image/png": "[encoded data removed]",
      "text/plain": [
       "<Figure size 432x288 with 1 Axes>"
      ]
     },
     "metadata": {
      "needs_background": "light"
     },
     "output_type": "display_data"
    }
   ],
   "source": [
    "cleaned_df['Duration (m)'].plot.hist(title='Song duration in minutes')"
   ]
  },
  {
   "cell_type": "markdown",
   "id": "8d0fe3de-1670-47f0-8428-70c28d1d6c77",
   "metadata": {},
   "source": [
    "### Histogram of other numerical columns "
   ]
  },
  {
   "cell_type": "code",
   "execution_count": 170,
   "id": "a5eb2a2c-9758-4052-a7cd-cccbfd9337a6",
   "metadata": {},
   "outputs": [
    {
     "data": {
      "text/plain": [
       "<AxesSubplot:ylabel='Frequency'>"
      ]
     },
     "execution_count": 170,
     "metadata": {},
     "output_type": "execute_result"
    },
    {
     "data": {
      "image/png": "[encoded data removed]",
      "text/plain": [
       "<Figure size 432x288 with 1 Axes>"
      ]
     },
     "metadata": {
      "needs_background": "light"
     },
     "output_type": "display_data"
    }
   ],
   "source": [
    "df[\"Danceability\"].astype(float).plot.hist()"
   ]
  },
  {
   "cell_type": "code",
   "execution_count": 171,
   "id": "030089b1-f68b-407d-965c-ee599d40286e",
   "metadata": {},
   "outputs": [
    {
     "data": {
      "text/plain": [
       "<AxesSubplot:ylabel='Frequency'>"
      ]
     },
     "execution_count": 171,
     "metadata": {},
     "output_type": "execute_result"
    },
    {
     "data": {
      "image/png": "[encoded data removed]",
      "text/plain": [
       "<Figure size 432x288 with 1 Axes>"
      ]
     },
     "metadata": {
      "needs_background": "light"
     },
     "output_type": "display_data"
    }
   ],
   "source": [
    "df[\"Energy\"].astype(float).plot.hist()"
   ]
  },
  {
   "cell_type": "code",
   "execution_count": 172,
   "id": "8ebfffc7-1e71-470e-84fb-b2d53d696a33",
   "metadata": {},
   "outputs": [
    {
     "data": {
      "text/plain": [
       "<AxesSubplot:ylabel='Frequency'>"
      ]
     },
     "execution_count": 172,
     "metadata": {},
     "output_type": "execute_result"
    },
    {
     "data": {
      "image/png": "[encoded data removed]",
      "text/plain": [
       "<Figure size 432x288 with 1 Axes>"
      ]
     },
     "metadata": {
      "needs_background": "light"
     },
     "output_type": "display_data"
    }
   ],
   "source": [
    "df[\"Loudness\"].astype(float).plot.hist()"
   ]
  },
  {
   "cell_type": "code",
   "execution_count": 173,
   "id": "88a2262c-cd1e-4c51-a9b5-c21947cb7014",
   "metadata": {},
   "outputs": [
    {
     "data": {
      "text/plain": [
       "<AxesSubplot:ylabel='Frequency'>"
      ]
     },
     "execution_count": 173,
     "metadata": {},
     "output_type": "execute_result"
    },
    {
     "data": {
      "image/png": "[encoded data removed]",
      "text/plain": [
       "<Figure size 432x288 with 1 Axes>"
      ]
     },
     "metadata": {
      "needs_background": "light"
     },
     "output_type": "display_data"
    }
   ],
   "source": [
    "df[\"Speechiness\"].astype(float).plot.hist()"
   ]
  },
  {
   "cell_type": "code",
   "execution_count": 174,
   "id": "d3686f9c-4271-456e-a492-625477c6fc57",
   "metadata": {},
   "outputs": [
    {
     "data": {
      "text/plain": [
       "<AxesSubplot:ylabel='Frequency'>"
      ]
     },
     "execution_count": 174,
     "metadata": {},
     "output_type": "execute_result"
    },
    {
     "data": {
      "image/png": "[encoded data removed]",
      "text/plain": [
       "<Figure size 432x288 with 1 Axes>"
      ]
     },
     "metadata": {
      "needs_background": "light"
     },
     "output_type": "display_data"
    }
   ],
   "source": [
    "df[\"Acousticness\"].astype(float).plot.hist()"
   ]
  },
  {
   "cell_type": "code",
   "execution_count": 175,
   "id": "fe8e3d95-db26-451c-88b9-08c597cd24d4",
   "metadata": {},
   "outputs": [
    {
     "data": {
      "text/plain": [
       "<AxesSubplot:ylabel='Frequency'>"
      ]
     },
     "execution_count": 175,
     "metadata": {},
     "output_type": "execute_result"
    },
    {
     "data": {
      "image/png": "[encoded data removed]",
      "text/plain": [
       "<Figure size 432x288 with 1 Axes>"
      ]
     },
     "metadata": {
      "needs_background": "light"
     },
     "output_type": "display_data"
    }
   ],
   "source": [
    "df[\"Liveness\"].astype(float).plot.hist()"
   ]
  },
  {
   "cell_type": "code",
   "execution_count": 176,
   "id": "9eba65b9-bd09-46b7-8ec4-6f7a98e94785",
   "metadata": {},
   "outputs": [
    {
     "data": {
      "text/plain": [
       "<AxesSubplot:ylabel='Frequency'>"
      ]
     },
     "execution_count": 176,
     "metadata": {},
     "output_type": "execute_result"
    },
    {
     "data": {
      "image/png": "[encoded data removed]",
      "text/plain": [
       "<Figure size 432x288 with 1 Axes>"
      ]
     },
     "metadata": {
      "needs_background": "light"
     },
     "output_type": "display_data"
    }
   ],
   "source": [
    "df[\"Tempo\"].astype(float).plot.hist()"
   ]
  },
  {
   "cell_type": "code",
   "execution_count": 177,
   "id": "31d4dee9-70f0-4f92-86cd-4807f4517ce5",
   "metadata": {},
   "outputs": [
    {
     "data": {
      "text/plain": [
       "<AxesSubplot:ylabel='Frequency'>"
      ]
     },
     "execution_count": 177,
     "metadata": {},
     "output_type": "execute_result"
    },
    {
     "data": {
      "image/png": "[encoded data removed]",
      "text/plain": [
       "<Figure size 432x288 with 1 Axes>"
      ]
     },
     "metadata": {
      "needs_background": "light"
     },
     "output_type": "display_data"
    }
   ],
   "source": [
    "df[\"Valence\"].astype(float).plot.hist()"
   ]
  },
  {
   "cell_type": "markdown",
   "id": "7df7fbbf-b7db-4ec5-a3e8-1474025b5df3",
   "metadata": {},
   "source": [
    "General comment: \n",
    "\n",
    "- Mostly linearly distributed"
   ]
  },
  {
   "cell_type": "code",
   "execution_count": 194,
   "id": "961bc701-3c7e-476b-86e3-3795aa63bf1b",
   "metadata": {},
   "outputs": [],
   "source": [
    "import seaborn as sns\n",
    "from matplotlib import pyplot as plt"
   ]
  },
  {
   "cell_type": "code",
   "execution_count": 202,
   "id": "6c7f8339-d4a0-448a-b4a5-83692813b481",
   "metadata": {},
   "outputs": [
    {
     "ename": "ValueError",
     "evalue": "zero-size array to reduction operation fmin which has no identity",
     "output_type": "error",
     "traceback": [
      "\u001b[0;31m---------------------------------------------------------------------------\u001b[0m",
      "\u001b[0;31mValueError\u001b[0m                                Traceback (most recent call last)",
      "\u001b[0;32m/tmp/ipykernel_53/4395556.py\u001b[0m in \u001b[0;36m<module>\u001b[0;34m\u001b[0m\n\u001b[1;32m      1\u001b[0m \u001b[0mplt\u001b[0m\u001b[0;34m.\u001b[0m\u001b[0mfigure\u001b[0m\u001b[0;34m(\u001b[0m\u001b[0mfigsize\u001b[0m\u001b[0;34m=\u001b[0m\u001b[0;34m(\u001b[0m\u001b[0;36m20\u001b[0m\u001b[0;34m,\u001b[0m \u001b[0;36m10\u001b[0m\u001b[0;34m)\u001b[0m\u001b[0;34m)\u001b[0m\u001b[0;34m\u001b[0m\u001b[0;34m\u001b[0m\u001b[0m\n\u001b[0;32m----> 2\u001b[0;31m sns.heatmap(df[['Energy', 'Loudness', 'Speechiness', 'Acousticness', 'Liveness',\n\u001b[0m\u001b[1;32m      3\u001b[0m       'Tempo', 'Duration (ms)', 'Valence']].corr())\n",
      "\u001b[0;32m/opt/conda/lib/python3.9/site-packages/seaborn/_decorators.py\u001b[0m in \u001b[0;36minner_f\u001b[0;34m(*args, **kwargs)\u001b[0m\n\u001b[1;32m     44\u001b[0m             )\n\u001b[1;32m     45\u001b[0m         \u001b[0mkwargs\u001b[0m\u001b[0;34m.\u001b[0m\u001b[0mupdate\u001b[0m\u001b[0;34m(\u001b[0m\u001b[0;34m{\u001b[0m\u001b[0mk\u001b[0m\u001b[0;34m:\u001b[0m \u001b[0marg\u001b[0m \u001b[0;32mfor\u001b[0m \u001b[0mk\u001b[0m\u001b[0;34m,\u001b[0m \u001b[0marg\u001b[0m \u001b[0;32min\u001b[0m \u001b[0mzip\u001b[0m\u001b[0;34m(\u001b[0m\u001b[0msig\u001b[0m\u001b[0;34m.\u001b[0m\u001b[0mparameters\u001b[0m\u001b[0;34m,\u001b[0m \u001b[0margs\u001b[0m\u001b[0;34m)\u001b[0m\u001b[0;34m}\u001b[0m\u001b[0;34m)\u001b[0m\u001b[0;34m\u001b[0m\u001b[0;34m\u001b[0m\u001b[0m\n\u001b[0;32m---> 46\u001b[0;31m         \u001b[0;32mreturn\u001b[0m \u001b[0mf\u001b[0m\u001b[0;34m(\u001b[0m\u001b[0;34m**\u001b[0m\u001b[0mkwargs\u001b[0m\u001b[0;34m)\u001b[0m\u001b[0;34m\u001b[0m\u001b[0;34m\u001b[0m\u001b[0m\n\u001b[0m\u001b[1;32m     47\u001b[0m     \u001b[0;32mreturn\u001b[0m \u001b[0minner_f\u001b[0m\u001b[0;34m\u001b[0m\u001b[0;34m\u001b[0m\u001b[0m\n\u001b[1;32m     48\u001b[0m \u001b[0;34m\u001b[0m\u001b[0m\n",
      "\u001b[0;32m/opt/conda/lib/python3.9/site-packages/seaborn/matrix.py\u001b[0m in \u001b[0;36mheatmap\u001b[0;34m(data, vmin, vmax, cmap, center, robust, annot, fmt, annot_kws, linewidths, linecolor, cbar, cbar_kws, cbar_ax, square, xticklabels, yticklabels, mask, ax, **kwargs)\u001b[0m\n\u001b[1;32m    538\u001b[0m     \"\"\"\n\u001b[1;32m    539\u001b[0m     \u001b[0;31m# Initialize the plotter object\u001b[0m\u001b[0;34m\u001b[0m\u001b[0;34m\u001b[0m\u001b[0;34m\u001b[0m\u001b[0m\n\u001b[0;32m--> 540\u001b[0;31m     plotter = _HeatMapper(data, vmin, vmax, cmap, center, robust, annot, fmt,\n\u001b[0m\u001b[1;32m    541\u001b[0m                           \u001b[0mannot_kws\u001b[0m\u001b[0;34m,\u001b[0m \u001b[0mcbar\u001b[0m\u001b[0;34m,\u001b[0m \u001b[0mcbar_kws\u001b[0m\u001b[0;34m,\u001b[0m \u001b[0mxticklabels\u001b[0m\u001b[0;34m,\u001b[0m\u001b[0;34m\u001b[0m\u001b[0;34m\u001b[0m\u001b[0m\n\u001b[1;32m    542\u001b[0m                           yticklabels, mask)\n",
      "\u001b[0;32m/opt/conda/lib/python3.9/site-packages/seaborn/matrix.py\u001b[0m in \u001b[0;36m__init__\u001b[0;34m(self, data, vmin, vmax, cmap, center, robust, annot, fmt, annot_kws, cbar, cbar_kws, xticklabels, yticklabels, mask)\u001b[0m\n\u001b[1;32m    157\u001b[0m \u001b[0;34m\u001b[0m\u001b[0m\n\u001b[1;32m    158\u001b[0m         \u001b[0;31m# Determine good default values for the colormapping\u001b[0m\u001b[0;34m\u001b[0m\u001b[0;34m\u001b[0m\u001b[0;34m\u001b[0m\u001b[0m\n\u001b[0;32m--> 159\u001b[0;31m         self._determine_cmap_params(plot_data, vmin, vmax,\n\u001b[0m\u001b[1;32m    160\u001b[0m                                     cmap, center, robust)\n\u001b[1;32m    161\u001b[0m \u001b[0;34m\u001b[0m\u001b[0m\n",
      "\u001b[0;32m/opt/conda/lib/python3.9/site-packages/seaborn/matrix.py\u001b[0m in \u001b[0;36m_determine_cmap_params\u001b[0;34m(self, plot_data, vmin, vmax, cmap, center, robust)\u001b[0m\n\u001b[1;32m    196\u001b[0m                 \u001b[0mvmin\u001b[0m \u001b[0;34m=\u001b[0m \u001b[0mnp\u001b[0m\u001b[0;34m.\u001b[0m\u001b[0mnanpercentile\u001b[0m\u001b[0;34m(\u001b[0m\u001b[0mcalc_data\u001b[0m\u001b[0;34m,\u001b[0m \u001b[0;36m2\u001b[0m\u001b[0;34m)\u001b[0m\u001b[0;34m\u001b[0m\u001b[0;34m\u001b[0m\u001b[0m\n\u001b[1;32m    197\u001b[0m             \u001b[0;32melse\u001b[0m\u001b[0;34m:\u001b[0m\u001b[0;34m\u001b[0m\u001b[0;34m\u001b[0m\u001b[0m\n\u001b[0;32m--> 198\u001b[0;31m                 \u001b[0mvmin\u001b[0m \u001b[0;34m=\u001b[0m \u001b[0mnp\u001b[0m\u001b[0;34m.\u001b[0m\u001b[0mnanmin\u001b[0m\u001b[0;34m(\u001b[0m\u001b[0mcalc_data\u001b[0m\u001b[0;34m)\u001b[0m\u001b[0;34m\u001b[0m\u001b[0;34m\u001b[0m\u001b[0m\n\u001b[0m\u001b[1;32m    199\u001b[0m         \u001b[0;32mif\u001b[0m \u001b[0mvmax\u001b[0m \u001b[0;32mis\u001b[0m \u001b[0;32mNone\u001b[0m\u001b[0;34m:\u001b[0m\u001b[0;34m\u001b[0m\u001b[0;34m\u001b[0m\u001b[0m\n\u001b[1;32m    200\u001b[0m             \u001b[0;32mif\u001b[0m \u001b[0mrobust\u001b[0m\u001b[0;34m:\u001b[0m\u001b[0;34m\u001b[0m\u001b[0;34m\u001b[0m\u001b[0m\n",
      "\u001b[0;32m<__array_function__ internals>\u001b[0m in \u001b[0;36mnanmin\u001b[0;34m(*args, **kwargs)\u001b[0m\n",
      "\u001b[0;32m/opt/conda/lib/python3.9/site-packages/numpy/lib/nanfunctions.py\u001b[0m in \u001b[0;36mnanmin\u001b[0;34m(a, axis, out, keepdims)\u001b[0m\n\u001b[1;32m    317\u001b[0m         \u001b[0;31m# Fast, but not safe for subclasses of ndarray, or object arrays,\u001b[0m\u001b[0;34m\u001b[0m\u001b[0;34m\u001b[0m\u001b[0;34m\u001b[0m\u001b[0m\n\u001b[1;32m    318\u001b[0m         \u001b[0;31m# which do not implement isnan (gh-9009), or fmin correctly (gh-8975)\u001b[0m\u001b[0;34m\u001b[0m\u001b[0;34m\u001b[0m\u001b[0;34m\u001b[0m\u001b[0m\n\u001b[0;32m--> 319\u001b[0;31m         \u001b[0mres\u001b[0m \u001b[0;34m=\u001b[0m \u001b[0mnp\u001b[0m\u001b[0;34m.\u001b[0m\u001b[0mfmin\u001b[0m\u001b[0;34m.\u001b[0m\u001b[0mreduce\u001b[0m\u001b[0;34m(\u001b[0m\u001b[0ma\u001b[0m\u001b[0;34m,\u001b[0m \u001b[0maxis\u001b[0m\u001b[0;34m=\u001b[0m\u001b[0maxis\u001b[0m\u001b[0;34m,\u001b[0m \u001b[0mout\u001b[0m\u001b[0;34m=\u001b[0m\u001b[0mout\u001b[0m\u001b[0;34m,\u001b[0m \u001b[0;34m**\u001b[0m\u001b[0mkwargs\u001b[0m\u001b[0;34m)\u001b[0m\u001b[0;34m\u001b[0m\u001b[0;34m\u001b[0m\u001b[0m\n\u001b[0m\u001b[1;32m    320\u001b[0m         \u001b[0;32mif\u001b[0m \u001b[0mnp\u001b[0m\u001b[0;34m.\u001b[0m\u001b[0misnan\u001b[0m\u001b[0;34m(\u001b[0m\u001b[0mres\u001b[0m\u001b[0;34m)\u001b[0m\u001b[0;34m.\u001b[0m\u001b[0many\u001b[0m\u001b[0;34m(\u001b[0m\u001b[0;34m)\u001b[0m\u001b[0;34m:\u001b[0m\u001b[0;34m\u001b[0m\u001b[0;34m\u001b[0m\u001b[0m\n\u001b[1;32m    321\u001b[0m             warnings.warn(\"All-NaN slice encountered\", RuntimeWarning,\n",
      "\u001b[0;31mValueError\u001b[0m: zero-size array to reduction operation fmin which has no identity"
     ]
    },
    {
     "data": {
      "text/plain": [
       "<Figure size 1440x720 with 0 Axes>"
      ]
     },
     "metadata": {},
     "output_type": "display_data"
    }
   ],
   "source": [
    "plt.figure(figsize=(20, 10))\n",
    "sns.heatmap(df[['Energy', 'Loudness', 'Speechiness', 'Acousticness', 'Liveness',\n",
    "      'Tempo', 'Duration (ms)', 'Valence']].corr())"
   ]
  },
  {
   "cell_type": "code",
   "execution_count": 204,
   "id": "4022baa4-fe4d-490f-8b15-8e7355105f24",
   "metadata": {},
   "outputs": [],
   "source": [
    "df1=df[['Energy', 'Loudness', 'Speechiness', 'Acousticness', 'Liveness',\n",
    "      'Tempo', 'Duration (ms)', 'Valence']]"
   ]
  },
  {
   "cell_type": "code",
   "execution_count": 206,
   "id": "e8d7cada-b8f4-4753-a19e-1422e650bc4f",
   "metadata": {},
   "outputs": [
    {
     "data": {
      "text/html": [
       "<div>\n",
       "<style scoped>\n",
       "    .dataframe tbody tr th:only-of-type {\n",
       "        vertical-align: middle;\n",
       "    }\n",
       "\n",
       "    .dataframe tbody tr th {\n",
       "        vertical-align: top;\n",
       "    }\n",
       "\n",
       "    .dataframe thead th {\n",
       "        text-align: right;\n",
       "    }\n",
       "</style>\n",
       "<table border=\"1\" class=\"dataframe\">\n",
       "  <thead>\n",
       "    <tr style=\"text-align: right;\">\n",
       "      <th></th>\n",
       "    </tr>\n",
       "  </thead>\n",
       "  <tbody>\n",
       "  </tbody>\n",
       "</table>\n",
       "</div>"
      ],
      "text/plain": [
       "Empty DataFrame\n",
       "Columns: []\n",
       "Index: []"
      ]
     },
     "execution_count": 206,
     "metadata": {},
     "output_type": "execute_result"
    }
   ],
   "source": [
    "df1.corr()"
   ]
  },
  {
   "cell_type": "markdown",
   "id": "fd12e9d1-8448-447c-b7b0-482e2315a2f8",
   "metadata": {},
   "source": [
    "### Below are changing categorical variables into dummy ones "
   ]
  },
  {
   "cell_type": "code",
   "execution_count": null,
   "id": "172565b5-1c7b-4bc8-a99e-5a45deac1b55",
   "metadata": {},
   "outputs": [],
   "source": [
    "import re"
   ]
  },
  {
   "cell_type": "code",
   "execution_count": null,
   "id": "c44704cb-1a55-4a16-9889-b502537a266b",
   "metadata": {},
   "outputs": [],
   "source": [
    "ith_row = 0\n",
    "cleaned_genre_col = []\n",
    "for i in df[\"Genre\"]:\n",
    "    x=re.split(\"'\",i)\n",
    "    # avoids songs with no genre attribute \n",
    "    if len(x) > 1: \n",
    "       cleaned_genre_col.append(x[1])\n",
    "    else:\n",
    "        cleaned_genre_col.append(' ')"
   ]
  },
  {
   "cell_type": "code",
   "execution_count": null,
   "id": "1690279a-a670-4d6f-b0f2-ec97ad0e2072",
   "metadata": {},
   "outputs": [],
   "source": [
    "# change it into pop, not-pop\n",
    "dummy_genre = []\n",
    "for i in cleaned_genre_col:\n",
    "    if re.search('pop',i):\n",
    "        dummy_genre.append('pop')\n",
    "    else:\n",
    "        dummy_genre.append('not-pop') "
   ]
  },
  {
   "cell_type": "code",
   "execution_count": null,
   "id": "6d4d7cf4-b447-482f-ba65-e77b52135f1b",
   "metadata": {},
   "outputs": [],
   "source": [
    "dummy_time = []\n",
    "for i in df[\"Week of Highest Charting\"]:\n",
    "    if re.match('2019',i):\n",
    "        dummy_time.append(\"pre-covid\")\n",
    "    else :\n",
    "        dummy_time.append(\"covid\")"
   ]
  },
  {
   "cell_type": "code",
   "execution_count": null,
   "id": "d801a658-88c6-4da7-8001-2ddb2db29e71",
   "metadata": {},
   "outputs": [],
   "source": [
    "import statsmodels.api as sm\n",
    "import pylab as py"
   ]
  },
  {
   "cell_type": "code",
   "execution_count": null,
   "id": "d1424789-9003-4ace-a5d5-f9bab20d714c",
   "metadata": {},
   "outputs": [
    {
     "name": "stderr",
     "output_type": "stream",
     "text": [
      "/opt/conda/lib/python3.9/site-packages/statsmodels/graphics/gofplots.py:993: UserWarning: marker is redundantly defined by the 'marker' keyword argument and the fmt string \"bo\" (-> marker='o'). The keyword argument will take precedence.\n",
      "  ax.plot(x, y, fmt, **plot_style)\n"
     ]
    },
    {
     "data": {
      "image/png": "[encoded data removed]",
      "text/plain": [
       "<Figure size 432x288 with 1 Axes>"
      ]
     },
     "metadata": {
      "needs_background": "light"
     },
     "output_type": "display_data"
    }
   ],
   "source": [
    "sm.qqplot(df[\"Danceability\"][0:10], line ='45')\n",
    "py.show()"
   ]
  },
  {
   "cell_type": "markdown",
   "id": "b9c6d4b2-3e2c-4095-9d34-e118980928eb",
   "metadata": {},
   "source": [
    "## Discussion  (what does your analysis show, what is the big picture, and how are these findings useful?) (500) "
   ]
  },
  {
   "cell_type": "markdown",
   "id": "061bb929-09e3-4e2a-9d21-1b7b0d346943",
   "metadata": {},
   "source": [
    "## Conclusion"
   ]
  },
  {
   "cell_type": "code",
   "execution_count": null,
   "id": "1edae41e-fd0f-4809-97bb-b7ea7392303a",
   "metadata": {},
   "outputs": [],
   "source": []
  }
 ],
 "metadata": {
  "kernelspec": {
   "display_name": "Python 3 (ipykernel)",
   "language": "python",
   "name": "python3"
  },
  "language_info": {
   "codemirror_mode": {
    "name": "ipython",
    "version": 3
   },
   "file_extension": ".py",
   "mimetype": "text/x-python",
   "name": "python",
   "nbconvert_exporter": "python",
   "pygments_lexer": "ipython3",
   "version": "3.9.6"
  }
 },
 "nbformat": 4,
 "nbformat_minor": 5
}
